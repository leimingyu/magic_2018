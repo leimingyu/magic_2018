{
 "cells": [
  {
   "cell_type": "code",
   "execution_count": 1,
   "metadata": {
    "collapsed": true
   },
   "outputs": [],
   "source": [
    "import os\n",
    "import glob\n",
    "import csv\n",
    "import numpy as np"
   ]
  },
  {
   "cell_type": "code",
   "execution_count": 2,
   "metadata": {},
   "outputs": [
    {
     "name": "stdout",
     "output_type": "stream",
     "text": [
      "['app_runtime_test2.csv', 'app_runtime_test3.csv', 'app_runtime_test1.csv']\n"
     ]
    }
   ],
   "source": [
    "extension = 'csv'\n",
    "os.chdir('./') # check current dir\n",
    "targetFiles = [i for i in glob.glob('*.{}'.format(extension))]\n",
    "print(targetFiles)"
   ]
  },
  {
   "cell_type": "code",
   "execution_count": 3,
   "metadata": {},
   "outputs": [
    {
     "name": "stdout",
     "output_type": "stream",
     "text": [
      "app_runtime_test2.csv\n",
      "app_runtime_test3.csv\n",
      "app_runtime_test1.csv\n"
     ]
    }
   ],
   "source": [
    "appRuntime = {}\n",
    "for curfile in targetFiles:\n",
    "    #print curfile\n",
    "    with open(curfile) as f:\n",
    "        reader = csv.reader(f)\n",
    "        next(reader) # skip header\n",
    "        for row in reader:\n",
    "            appName, appRT = row[1], row[-1]\n",
    "            if appName not in appRuntime:\n",
    "                appRuntime[appName] = appRT  # update fresh\n",
    "            else:\n",
    "                if appRT < appRuntime[appName]: # exist, then cmp and select the smaller one\n",
    "                    appRuntime[appName] = appRT"
   ]
  },
  {
   "cell_type": "code",
   "execution_count": 6,
   "metadata": {},
   "outputs": [],
   "source": [
    "# for appName, runTime in appRuntime.iteritems():\n",
    "#     print appName, runTime"
   ]
  },
  {
   "cell_type": "code",
   "execution_count": 7,
   "metadata": {
    "collapsed": true
   },
   "outputs": [],
   "source": [
    "# save the dedicated runtime to npy\n",
    "np.save('app_dedicated_rt.npy', appRuntime)"
   ]
  },
  {
   "cell_type": "code",
   "execution_count": 12,
   "metadata": {},
   "outputs": [],
   "source": [
    "## load\n",
    "# runtime_dd = np.load('app_dedicated_rt.npy').item()\n",
    "# print type(runtime_dd)\n",
    "# for k,v in runtime_dd.iteritems():\n",
    "#     print k,v"
   ]
  }
 ],
 "metadata": {
  "kernelspec": {
   "display_name": "Python [default]",
   "language": "python",
   "name": "python2"
  },
  "language_info": {
   "codemirror_mode": {
    "name": "ipython",
    "version": 2
   },
   "file_extension": ".py",
   "mimetype": "text/x-python",
   "name": "python",
   "nbconvert_exporter": "python",
   "pygments_lexer": "ipython2",
   "version": "2.7.13"
  }
 },
 "nbformat": 4,
 "nbformat_minor": 2
}
