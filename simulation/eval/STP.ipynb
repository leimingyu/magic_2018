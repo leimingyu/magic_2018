{
 "cells": [
  {
   "cell_type": "code",
   "execution_count": 15,
   "metadata": {
    "collapsed": true
   },
   "outputs": [],
   "source": [
    "import numpy as np\n",
    "import csv\n",
    "import pandas as pd"
   ]
  },
  {
   "cell_type": "code",
   "execution_count": 16,
   "metadata": {
    "collapsed": true
   },
   "outputs": [],
   "source": [
    "# dedicated runtime\n",
    "appRuntime = np.load('../dedicated_runtime/app_dedicated_rt.npy').item()"
   ]
  },
  {
   "cell_type": "code",
   "execution_count": 17,
   "metadata": {
    "collapsed": true
   },
   "outputs": [],
   "source": [
    "def read_timing_df(curfile):\n",
    "    \"\"\"read timing traces in csv file, offset the trace with the starting pos, return the dataframe\"\"\"\n",
    "    df_current = pd.read_csv(curfile)\n",
    "    offset = df_current['start'].min()  # find the starting timing, and offset it\n",
    "    df_current['start'] = df_current['start'].apply(lambda x: x - offset)\n",
    "    df_current['end'] = df_current['end'].apply(lambda x: x - offset)\n",
    "    return df_current\n",
    "\n",
    "def compare_with_dedicatedruntime(df, appRuntime):\n",
    "    \"\"\"\n",
    "    read the timing traces in dataframe (after read_timing_df()).\n",
    "    compute the speedup over the dedicated runtime\n",
    "    return speedup list\n",
    "    \"\"\"\n",
    "    dedicated_total,  corun_total = 0.0, 0.0\n",
    "    speedup_list = []\n",
    "\n",
    "    # columns => ['jobID', 'appName', 'start', 'end', 'duration (s)']\n",
    "    for index, row in df.iterrows():\n",
    "        app_name, app_endT = row['appName'], row['end']\n",
    "        app_rt_dedicate = float(appRuntime[app_name])  # dedicated runtime\n",
    "        app_endT = float(app_endT)\n",
    "        if corun_total < app_endT: corun_total = app_endT\n",
    "        dedicated_total += app_rt_dedicate\n",
    "        speedup = dedicated_total / corun_total\n",
    "        speedup_list.append(speedup)   \n",
    "    return speedup_list"
   ]
  },
  {
   "cell_type": "code",
   "execution_count": 18,
   "metadata": {},
   "outputs": [
    {
     "data": {
      "text/plain": [
       "79"
      ]
     },
     "execution_count": 18,
     "metadata": {},
     "output_type": "execute_result"
    }
   ],
   "source": [
    "len(appRuntime)"
   ]
  },
  {
   "cell_type": "code",
   "execution_count": 19,
   "metadata": {},
   "outputs": [
    {
     "data": {
      "text/plain": [
       "{'cudasdk_BlackScholes': '1.4004418849945068',\n",
       " 'cudasdk_FDTD3d': '14.441001176834106',\n",
       " 'cudasdk_MCEstimatePiInlineP': '0.39530420303344727',\n",
       " 'cudasdk_MCEstimatePiInlineQ': '0.3933548927307129',\n",
       " 'cudasdk_MCEstimatePiP': '0.3939080238342285',\n",
       " 'cudasdk_MCEstimatePiQ': '0.4072442054748535',\n",
       " 'cudasdk_MCSingleAsianOptionP': '0.39748215675354004',\n",
       " 'cudasdk_SobolQRNG': '0.5573899745941162',\n",
       " 'cudasdk_batchCUBLAS': '0.7025609016418457',\n",
       " 'cudasdk_binomialOptions': '25.258795976638794',\n",
       " 'cudasdk_boxFilterNPP': '0.4159379005432129',\n",
       " 'cudasdk_c++11Cuda': '0.5548751354217529',\n",
       " 'cudasdk_concurrentKernels': '0.39653706550598145',\n",
       " 'cudasdk_convolutionFFT2D': '3.801888942718506',\n",
       " 'cudasdk_convolutionSeparable': '1.9495930671691895',\n",
       " 'cudasdk_convolutionTexture': '1.1159520149230957',\n",
       " 'cudasdk_dct8x8': '0.7084078788757324',\n",
       " 'cudasdk_dwtHaar1D': '0.39554309844970703',\n",
       " 'cudasdk_dxtc': '0.41524600982666016',\n",
       " 'cudasdk_eigenvalues': '1.3545660972595215',\n",
       " 'cudasdk_fastWalshTransform': '3.368587017059326',\n",
       " 'cudasdk_interval': '1.9362289905548096',\n",
       " 'cudasdk_lineOfSight': '0.4561729431152344',\n",
       " 'cudasdk_matrixMul': '0.4289689064025879',\n",
       " 'cudasdk_mergeSort': '0.7822010517120361',\n",
       " 'cudasdk_quasirandomGenerator': '1.0885272026062012',\n",
       " 'cudasdk_radixSortThrust': '3.195225954055786',\n",
       " 'cudasdk_reduction': '1.0842399597167969',\n",
       " 'cudasdk_scalarProd': '0.44892001152038574',\n",
       " 'cudasdk_scan': '2.5644140243530273',\n",
       " 'cudasdk_segmentationTreeThrust': '2.7883188724517822',\n",
       " 'cudasdk_shflscan': '0.43673110008239746',\n",
       " 'cudasdk_simpleCUBLAS': '0.6988508701324463',\n",
       " 'cudasdk_simpleCUFFTcallback': '0.7745330333709717',\n",
       " 'cudasdk_sortingNetworks': '5.677458047866821',\n",
       " 'cudasdk_stereoDisparity': '22.518033027648926',\n",
       " 'cudasdk_threadFenceReduction': '0.4252657890319824',\n",
       " 'cudasdk_transpose': '0.6521940231323242',\n",
       " 'cudasdk_vectorAdd': '0.38896799087524414',\n",
       " 'lonestar_bh': '1.5692291259765625',\n",
       " 'lonestar_dmr': '6.275052785873413',\n",
       " 'lonestar_mst': '0.39842915534973145',\n",
       " 'lonestar_sssp': '1.597989797592163',\n",
       " 'parboil_bfs': '0.6072590351104736',\n",
       " 'parboil_cutcp': '0.4843909740447998',\n",
       " 'parboil_lbm': '3.210344076156616',\n",
       " 'parboil_mriq': '0.39757609367370605',\n",
       " 'parboil_sgemm': '0.41099095344543457',\n",
       " 'parboil_stencil': '0.4083409309387207',\n",
       " 'poly_2dconv': '1.5535199642181396',\n",
       " 'poly_3dconv': '1.5924980640411377',\n",
       " 'poly_3mm': '2.3577520847320557',\n",
       " 'poly_atax': '0.7803730964660645',\n",
       " 'poly_bicg': '0.7472128868103027',\n",
       " 'poly_correlation': '36.734089851379395',\n",
       " 'poly_covariance': '36.303200006484985',\n",
       " 'poly_fdtd2d': '30.450217962265015',\n",
       " 'poly_gemm': '1.0797150135040283',\n",
       " 'poly_gesummv': '0.9138929843902588',\n",
       " 'poly_mvt': '0.9791131019592285',\n",
       " 'poly_syr2k': '55.582650899887085',\n",
       " 'poly_syrk': '3.915877103805542',\n",
       " 'rodinia_b+tree': '1.5681309700012207',\n",
       " 'rodinia_backprop': '0.4724140167236328',\n",
       " 'rodinia_dwt2d': '0.5064189434051514',\n",
       " 'rodinia_gaussian': '0.37885403633117676',\n",
       " 'rodinia_heartwall': '0.6397011280059814',\n",
       " 'rodinia_hotspot': '0.6798281669616699',\n",
       " 'rodinia_hybridsort': '0.8709659576416016',\n",
       " 'rodinia_lavaMD': '0.4749331474304199',\n",
       " 'rodinia_lud': '0.39455103874206543',\n",
       " 'rodinia_needle': '0.565727949142456',\n",
       " 'rodinia_pathfinder': '0.6718120574951172',\n",
       " 'shoc_lev1BFS': '0.41029810905456543',\n",
       " 'shoc_lev1GEMM': '0.6759779453277588',\n",
       " 'shoc_lev1fft': '0.40742993354797363',\n",
       " 'shoc_lev1md5hash': '0.3908958435058594',\n",
       " 'shoc_lev1reduction': '0.4909861087799072',\n",
       " 'shoc_lev1sort': '0.5276768207550049'}"
      ]
     },
     "execution_count": 19,
     "metadata": {},
     "output_type": "execute_result"
    }
   ],
   "source": [
    "appRuntime"
   ]
  },
  {
   "cell_type": "code",
   "execution_count": 20,
   "metadata": {
    "collapsed": true
   },
   "outputs": [],
   "source": [
    "def compute_stp(inputcsv):\n",
    "    \"\"\"Read app status table in csv format, compute the ANTT\"\"\"\n",
    "    \n",
    "    df = read_timing_df(inputcsv)\n",
    "    \n",
    "    #\n",
    "    # 1) sort the dataframe by 'end'\n",
    "    #\n",
    "    sorted_df = df.sort_values(by=['end'])\n",
    "    \n",
    "    \n",
    "    #\n",
    "    # 2) compute the stp for each app\n",
    "    # \n",
    "    stp_list = []\n",
    "    for idx, row in sorted_df.iterrows():\n",
    "        appName = row['appName']\n",
    "        T_corun = float(row['duration (s)'])\n",
    "        T_dedicate = float(appRuntime[appName])\n",
    "\n",
    "        tmp =  T_dedicate / T_corun\n",
    "        stp_list.append(tmp)\n",
    "\n",
    "    #print stp_list\n",
    "    \n",
    "    #\n",
    "    # 3) in stp list, add current value with prev\n",
    "    # \n",
    "    stp = [0 for i in xrange(len(stp_list))]\n",
    "    for i, v in enumerate(stp_list):\n",
    "        if i == 0:\n",
    "            stp[0] = v\n",
    "        else:\n",
    "            stp[i] = stp[i-1] + v\n",
    "    \n",
    "    return stp\n",
    "    "
   ]
  },
  {
   "cell_type": "markdown",
   "metadata": {},
   "source": [
    "### read traces"
   ]
  },
  {
   "cell_type": "code",
   "execution_count": 21,
   "metadata": {},
   "outputs": [
    {
     "name": "stdout",
     "output_type": "stream",
     "text": [
      "[0.12283269547502497, 0.25398453686081984, 0.49110616254541317, 0.6536391782845794, 0.8486476984558528, 1.1420874940634689, 1.3402197761548122, 1.769046283755994, 2.168047582089999, 2.3959713433971643, 2.6051355893189267, 2.933861207302715, 3.13845781821005, 3.3079242429221076, 3.492620395565043, 3.8867286823127234, 4.118221973530761, 4.744811622107714, 5.181442361793715, 5.511364193206329, 6.045426685434949, 6.365319366976825, 6.713440887096779, 7.0222617512940815, 7.399337249187682, 7.889903402451361, 8.200656127229704, 8.769859170636186, 9.039683440330524, 9.58028927919896, 9.960950193198228, 10.507235645620742, 10.703878250619022, 11.20665351074269, 11.48449704286622, 11.822614229708591, 12.254998856491653, 12.57967098705767, 12.969776837973958, 13.451038936727452, 13.783342566007104, 14.095786791296641, 14.358327381129639, 14.990626772119235, 15.298930209359064, 15.50248761551946, 15.766441902100704, 16.394607996788977, 16.626805434363856, 16.959845965832336, 17.21141979364244, 17.53783297141762, 17.972387086894788, 18.379363392111692, 18.841580802905266, 19.28737185572057, 19.561592066222463, 19.90917909897913, 20.356650220095197, 20.658500068342466, 21.230209536839475, 21.862789605800515, 22.249682818112973, 22.53435670765045, 23.23250253329489, 23.44766772341957, 23.88104954800997, 24.275628937730687, 24.587283037879498, 24.988806272673166, 25.324334339791125, 25.78806832482144, 26.30586274810106, 26.88571148051121, 27.66219444819034, 28.318154708812877, 28.93248140595023, 29.587620613913614, 30.318596764179063]\n"
     ]
    }
   ],
   "source": [
    "inputcsv = \"../fcfs_csv/fcfs_run8_s1.csv\"\n",
    "stp = compute_stp(inputcsv)\n",
    "print stp\n",
    "\n",
    "mydf = pd.DataFrame(stp)\n",
    "mydf.to_csv('stp_fcfs_max8.csv', index=False, header=False)"
   ]
  },
  {
   "cell_type": "code",
   "execution_count": 23,
   "metadata": {},
   "outputs": [
    {
     "name": "stdout",
     "output_type": "stream",
     "text": [
      "[0.13206391981389726, 0.2356572499526202, 0.4434928312804695, 0.7102430943599206, 0.9184539010495023, 1.1123968119537029, 1.504685710388674, 1.8357702518772478, 2.1822070153858104, 2.498205079106596, 2.7611839763715746, 3.051600540650365, 3.354549144923388, 3.6368745262462827, 4.024695836656119, 4.18479963474711, 4.465423162282855, 4.705801029254804, 4.819956139275379, 4.94899236988815, 5.289559647865758, 5.524839939262458, 5.726229407175523, 5.981756590582184, 6.20181553487343, 6.409491158841145, 6.620712200761866, 6.768619180508242, 6.978347081271062, 7.10545551527651, 7.270111410589593, 7.448410213833426, 7.661621108786233, 7.936041007700461, 8.144173122608608, 8.343213114416928, 8.562768967655995, 8.78400820602495, 9.0088273675243, 9.376386504559143, 9.673951689847271, 10.052320456030735, 10.317478488540969, 10.571850366257639, 10.914165759908773, 11.195480551553583, 11.568702727305478, 11.826487437092203, 12.175493578713072, 12.55028490489111, 12.931315126574216, 13.238505433199546, 13.52186232967341, 13.864068605271692, 14.140031304916393, 14.50535128581668, 14.901694993933035, 15.183761619341174, 15.4618773260736, 15.715541753933138, 16.139323982034984, 16.466749121719864, 16.790074561478644, 17.103733630706056, 17.34931798223289, 17.560038086092366, 17.951259379415017, 18.27040912814932, 18.615009230465215, 18.922726224636616, 19.305808763202897, 19.593023018256254, 19.83358405539199, 20.13494025469044, 20.460228125186823, 20.89908205024303, 21.522988763385342, 22.183715962245497, 22.6959860609386]\n"
     ]
    }
   ],
   "source": [
    "inputcsv = \"../sim_csv/feat9/sim_feat9_run8_s1.csv\"\n",
    "stp = compute_stp(inputcsv)\n",
    "print stp\n",
    "\n",
    "mydf = pd.DataFrame(stp)\n",
    "mydf.to_csv('stp_sim-feat9_max8.csv', index=False, header=False)"
   ]
  },
  {
   "cell_type": "code",
   "execution_count": 24,
   "metadata": {},
   "outputs": [
    {
     "name": "stdout",
     "output_type": "stream",
     "text": [
      "[0.20023032159749174, 0.4383117524312443, 0.7728392991683065, 1.2224919888745922, 1.5593519566260607, 2.120045419950509, 2.4460418695440813, 2.9996117935811206, 3.283623551357461, 3.9628703730492463, 4.288039119204376, 4.6817600080420485, 5.025931442167361, 5.486325258541618, 5.878018549188167, 6.224521558329333, 6.606148819978797, 6.918681989443337, 7.218953334136215, 7.575168490555936, 7.8663341449917095, 8.26227770431627, 8.59352546536395, 8.992110858561375, 9.51056953444109, 9.832122894855512, 10.438613758393892, 10.786897729341119, 11.140233131914785, 11.730079472232756, 12.171227501928698, 12.521294574036988, 12.883276900414259, 13.2316829688765, 13.727919253027396, 14.35682592921897, 14.792350763723295, 15.207991775388853, 15.605670765702964, 16.0268937085444, 16.48291706594378, 17.239800373357433, 17.774189862106812, 18.314986696365576, 18.670168082356202, 18.95428856800091, 19.22302338773969, 19.46751540997733, 20.0104288206215, 20.665289453330704, 21.03358655622621, 21.60341280761061, 22.00536851765171, 22.416032659579713, 22.794155189660295, 23.2685616211651, 23.712468361250213, 24.2234046917152, 24.61049246841762, 25.05012830762921, 25.541644016913292, 25.985626260794845, 26.516737711833986, 26.88491089936673, 27.448595317519, 27.766119676558485, 28.18061812932378, 28.749138867406472, 29.210961014652145, 29.695031145317117, 30.06630138223425, 30.541775945417275, 31.142836907114088, 31.71754554945121, 32.257531860366505, 32.84718902874893, 33.54153444760303, 34.30063607343327, 35.00039986670034]\n"
     ]
    }
   ],
   "source": [
    "inputcsv = \"../robustBin_csv/feat9/robustBin_feat9_run8_s1.csv\"\n",
    "stp = compute_stp(inputcsv)\n",
    "print stp\n",
    "\n",
    "mydf = pd.DataFrame(stp)\n",
    "mydf.to_csv('stp_interBin-feat9_max8.csv', index=False, header=False)"
   ]
  }
 ],
 "metadata": {
  "kernelspec": {
   "display_name": "Python [default]",
   "language": "python",
   "name": "python2"
  },
  "language_info": {
   "codemirror_mode": {
    "name": "ipython",
    "version": 2
   },
   "file_extension": ".py",
   "mimetype": "text/x-python",
   "name": "python",
   "nbconvert_exporter": "python",
   "pygments_lexer": "ipython2",
   "version": "2.7.13"
  }
 },
 "nbformat": 4,
 "nbformat_minor": 2
}
