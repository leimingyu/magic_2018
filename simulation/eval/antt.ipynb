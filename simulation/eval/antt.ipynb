{
 "cells": [
  {
   "cell_type": "code",
   "execution_count": 1,
   "metadata": {
    "collapsed": true
   },
   "outputs": [],
   "source": [
    "import numpy as np\n",
    "import csv\n",
    "import pandas as pd"
   ]
  },
  {
   "cell_type": "code",
   "execution_count": 2,
   "metadata": {
    "collapsed": true
   },
   "outputs": [],
   "source": [
    "# dedicated runtime\n",
    "appRuntime = np.load('../dedicated_runtime/app_dedicated_rt.npy').item()"
   ]
  },
  {
   "cell_type": "code",
   "execution_count": 3,
   "metadata": {
    "collapsed": true
   },
   "outputs": [],
   "source": [
    "def read_timing_df(curfile):\n",
    "    \"\"\"read timing traces in csv file, offset the trace with the starting pos, return the dataframe\"\"\"\n",
    "    df_current = pd.read_csv(curfile)\n",
    "    offset = df_current['start'].min()  # find the starting timing, and offset it\n",
    "    df_current['start'] = df_current['start'].apply(lambda x: x - offset)\n",
    "    df_current['end'] = df_current['end'].apply(lambda x: x - offset)\n",
    "    return df_current\n",
    "\n",
    "def compare_with_dedicatedruntime(df, appRuntime):\n",
    "    \"\"\"\n",
    "    read the timing traces in dataframe (after read_timing_df()).\n",
    "    compute the speedup over the dedicated runtime\n",
    "    return speedup list\n",
    "    \"\"\"\n",
    "    dedicated_total,  corun_total = 0.0, 0.0\n",
    "    speedup_list = []\n",
    "\n",
    "    # columns => ['jobID', 'appName', 'start', 'end', 'duration (s)']\n",
    "    for index, row in df.iterrows():\n",
    "        app_name, app_endT = row['appName'], row['end']\n",
    "        app_rt_dedicate = float(appRuntime[app_name])  # dedicated runtime\n",
    "        app_endT = float(app_endT)\n",
    "        if corun_total < app_endT: corun_total = app_endT\n",
    "        dedicated_total += app_rt_dedicate\n",
    "        speedup = dedicated_total / corun_total\n",
    "        speedup_list.append(speedup)   \n",
    "    return speedup_list"
   ]
  },
  {
   "cell_type": "code",
   "execution_count": 4,
   "metadata": {},
   "outputs": [
    {
     "data": {
      "text/plain": [
       "79"
      ]
     },
     "execution_count": 4,
     "metadata": {},
     "output_type": "execute_result"
    }
   ],
   "source": [
    "len(appRuntime)"
   ]
  },
  {
   "cell_type": "code",
   "execution_count": 5,
   "metadata": {},
   "outputs": [
    {
     "data": {
      "text/plain": [
       "{'cudasdk_BlackScholes': '1.4004418849945068',\n",
       " 'cudasdk_FDTD3d': '14.441001176834106',\n",
       " 'cudasdk_MCEstimatePiInlineP': '0.39530420303344727',\n",
       " 'cudasdk_MCEstimatePiInlineQ': '0.3933548927307129',\n",
       " 'cudasdk_MCEstimatePiP': '0.3939080238342285',\n",
       " 'cudasdk_MCEstimatePiQ': '0.4072442054748535',\n",
       " 'cudasdk_MCSingleAsianOptionP': '0.39748215675354004',\n",
       " 'cudasdk_SobolQRNG': '0.5573899745941162',\n",
       " 'cudasdk_batchCUBLAS': '0.7025609016418457',\n",
       " 'cudasdk_binomialOptions': '25.258795976638794',\n",
       " 'cudasdk_boxFilterNPP': '0.4159379005432129',\n",
       " 'cudasdk_c++11Cuda': '0.5548751354217529',\n",
       " 'cudasdk_concurrentKernels': '0.39653706550598145',\n",
       " 'cudasdk_convolutionFFT2D': '3.801888942718506',\n",
       " 'cudasdk_convolutionSeparable': '1.9495930671691895',\n",
       " 'cudasdk_convolutionTexture': '1.1159520149230957',\n",
       " 'cudasdk_dct8x8': '0.7084078788757324',\n",
       " 'cudasdk_dwtHaar1D': '0.39554309844970703',\n",
       " 'cudasdk_dxtc': '0.41524600982666016',\n",
       " 'cudasdk_eigenvalues': '1.3545660972595215',\n",
       " 'cudasdk_fastWalshTransform': '3.368587017059326',\n",
       " 'cudasdk_interval': '1.9362289905548096',\n",
       " 'cudasdk_lineOfSight': '0.4561729431152344',\n",
       " 'cudasdk_matrixMul': '0.4289689064025879',\n",
       " 'cudasdk_mergeSort': '0.7822010517120361',\n",
       " 'cudasdk_quasirandomGenerator': '1.0885272026062012',\n",
       " 'cudasdk_radixSortThrust': '3.195225954055786',\n",
       " 'cudasdk_reduction': '1.0842399597167969',\n",
       " 'cudasdk_scalarProd': '0.44892001152038574',\n",
       " 'cudasdk_scan': '2.5644140243530273',\n",
       " 'cudasdk_segmentationTreeThrust': '2.7883188724517822',\n",
       " 'cudasdk_shflscan': '0.43673110008239746',\n",
       " 'cudasdk_simpleCUBLAS': '0.6988508701324463',\n",
       " 'cudasdk_simpleCUFFTcallback': '0.7745330333709717',\n",
       " 'cudasdk_sortingNetworks': '5.677458047866821',\n",
       " 'cudasdk_stereoDisparity': '22.518033027648926',\n",
       " 'cudasdk_threadFenceReduction': '0.4252657890319824',\n",
       " 'cudasdk_transpose': '0.6521940231323242',\n",
       " 'cudasdk_vectorAdd': '0.38896799087524414',\n",
       " 'lonestar_bh': '1.5692291259765625',\n",
       " 'lonestar_dmr': '6.275052785873413',\n",
       " 'lonestar_mst': '0.39842915534973145',\n",
       " 'lonestar_sssp': '1.597989797592163',\n",
       " 'parboil_bfs': '0.6072590351104736',\n",
       " 'parboil_cutcp': '0.4843909740447998',\n",
       " 'parboil_lbm': '3.210344076156616',\n",
       " 'parboil_mriq': '0.39757609367370605',\n",
       " 'parboil_sgemm': '0.41099095344543457',\n",
       " 'parboil_stencil': '0.4083409309387207',\n",
       " 'poly_2dconv': '1.5535199642181396',\n",
       " 'poly_3dconv': '1.5924980640411377',\n",
       " 'poly_3mm': '2.3577520847320557',\n",
       " 'poly_atax': '0.7803730964660645',\n",
       " 'poly_bicg': '0.7472128868103027',\n",
       " 'poly_correlation': '36.734089851379395',\n",
       " 'poly_covariance': '36.303200006484985',\n",
       " 'poly_fdtd2d': '30.450217962265015',\n",
       " 'poly_gemm': '1.0797150135040283',\n",
       " 'poly_gesummv': '0.9138929843902588',\n",
       " 'poly_mvt': '0.9791131019592285',\n",
       " 'poly_syr2k': '55.582650899887085',\n",
       " 'poly_syrk': '3.915877103805542',\n",
       " 'rodinia_b+tree': '1.5681309700012207',\n",
       " 'rodinia_backprop': '0.4724140167236328',\n",
       " 'rodinia_dwt2d': '0.5064189434051514',\n",
       " 'rodinia_gaussian': '0.37885403633117676',\n",
       " 'rodinia_heartwall': '0.6397011280059814',\n",
       " 'rodinia_hotspot': '0.6798281669616699',\n",
       " 'rodinia_hybridsort': '0.8709659576416016',\n",
       " 'rodinia_lavaMD': '0.4749331474304199',\n",
       " 'rodinia_lud': '0.39455103874206543',\n",
       " 'rodinia_needle': '0.565727949142456',\n",
       " 'rodinia_pathfinder': '0.6718120574951172',\n",
       " 'shoc_lev1BFS': '0.41029810905456543',\n",
       " 'shoc_lev1GEMM': '0.6759779453277588',\n",
       " 'shoc_lev1fft': '0.40742993354797363',\n",
       " 'shoc_lev1md5hash': '0.3908958435058594',\n",
       " 'shoc_lev1reduction': '0.4909861087799072',\n",
       " 'shoc_lev1sort': '0.5276768207550049'}"
      ]
     },
     "execution_count": 5,
     "metadata": {},
     "output_type": "execute_result"
    }
   ],
   "source": [
    "appRuntime"
   ]
  },
  {
   "cell_type": "code",
   "execution_count": 6,
   "metadata": {
    "collapsed": true
   },
   "outputs": [],
   "source": [
    "def compute_antt(inputcsv):\n",
    "    \"\"\"Read app status table in csv format, compute the ANTT\"\"\"\n",
    "    \n",
    "    df = read_timing_df(inputcsv)\n",
    "    \n",
    "    #\n",
    "    # 1) sort the dataframe by 'end'\n",
    "    #\n",
    "    sorted_df = df.sort_values(by=['end'])\n",
    "    \n",
    "    \n",
    "    #\n",
    "    # 2) compute the ntt for each app\n",
    "    # \n",
    "    antt_list = []\n",
    "    for idx, row in sorted_df.iterrows():\n",
    "        appName = row['appName']\n",
    "        T_corun = float(row['duration (s)'])\n",
    "        T_dedicate = float(appRuntime[appName])\n",
    "\n",
    "        tmp = T_corun / T_dedicate\n",
    "        #print appName, T_corun, T_dedicate, tmp\n",
    "        antt_list.append(tmp)\n",
    "\n",
    "    #\n",
    "    # 3) in antt list, add current value with prev\n",
    "    # \n",
    "    antt = [0 for i in xrange(len(antt_list))]\n",
    "    for i, v in enumerate(antt_list):\n",
    "        if i == 0:\n",
    "            antt[0] = v\n",
    "        else:\n",
    "            antt[i] = antt[i-1] + v\n",
    "\n",
    "    # 4) final step:  1 / N on each data sample\n",
    "    antt_seq = []\n",
    "    for i, v in enumerate(antt):\n",
    "        #print i, v\n",
    "        N = i + 1\n",
    "        current_antt = v / N\n",
    "        #print current_antt\n",
    "        antt_seq.append(current_antt)\n",
    "    \n",
    "    return antt_seq\n",
    "    "
   ]
  },
  {
   "cell_type": "markdown",
   "metadata": {},
   "source": [
    "### read traces"
   ]
  },
  {
   "cell_type": "code",
   "execution_count": 7,
   "metadata": {
    "collapsed": true
   },
   "outputs": [],
   "source": [
    "# we have featall/feat64/feat42/feat42/feat26/feat18/feat14/feat12/featMystic, \n",
    "# to compare with fcfs"
   ]
  },
  {
   "cell_type": "code",
   "execution_count": 8,
   "metadata": {},
   "outputs": [
    {
     "name": "stdout",
     "output_type": "stream",
     "text": [
      "[8.141154894735056, 7.882952437431185, 6.661049971908845, 6.5339365058419645, 6.252745418748438, 5.778596859623275, 5.6741020374531805, 5.256332457247241, 4.9507685740946386, 4.894434914965556, 4.884116452250333, 4.730610973835241, 4.742692167724997, 4.825419433258255, 4.864678000814529, 4.71922148173679, 4.695724901235579, 4.523514674717192, 4.405975205975314, 4.337227495772011, 4.219856665052021, 4.170138106795753, 4.1137216731354815, 4.077238402746715, 4.020228418937237, 3.9440065973783405, 3.917117193790588, 3.8399645200196986, 3.8353490483037485, 3.7691632981425154, 3.7323196410176167, 3.672889177564875, 3.7156915644445894, 3.6649053489003154, 3.663026568227586, 3.643430121273992, 3.60746594708942, 3.5935860616632946, 3.56717120939441, 3.5299386751525375, 3.5172400746130514, 3.509700340336279, 3.51665928223064, 3.472679054886505, 3.467587470102034, 3.4990012010319163, 3.5051614903456905, 3.465302618663347, 3.4824735803159266, 3.472876859381768, 3.482721946199762, 3.474661943448571, 3.4525213287549854, 3.434088443175158, 3.410986545279327, 3.390133274613009, 3.3946345193427154, 3.385709394721722, 3.366202135327564, 3.36531385683349, 3.338819206318052, 3.3104645021687316, 3.2989443123077806, 3.3022856735485058, 3.273517670997038, 3.2943369778642837, 3.279607084151727, 3.26864733631088, 3.267778324554872, 3.2566745756158286, 3.252783054837477, 3.237555633248351, 3.2196612873922734, 3.1994575904570333, 3.1739695993211696, 3.1522658229418887, 3.1324675444115795, 3.111876847060406, 3.0898028830443915]\n"
     ]
    }
   ],
   "source": [
    "inputcsv = \"../fcfs_csv/fcfs_run8_s1.csv\"\n",
    "antt = compute_antt(inputcsv)\n",
    "print antt\n",
    "\n",
    "mydf = pd.DataFrame(antt)\n",
    "mydf.to_csv('antt_fcfs_max8.csv', index=False, header=False)"
   ]
  },
  {
   "cell_type": "code",
   "execution_count": 9,
   "metadata": {},
   "outputs": [
    {
     "name": "stdout",
     "output_type": "stream",
     "text": [
      "[7.572090858799185, 8.612610994291122, 7.3455725534527545, 6.4463856135537, 6.117673425871414, 5.957420604301936, 5.470523621815865, 5.164255243434283, 4.911174625239443, 4.73651479800139, 4.651612223891669, 4.550922018975366, 4.4547657051618526, 4.389569040132886, 4.268831577040833, 4.392401354459975, 4.343642044520682, 4.333446196970026, 4.566423282882051, 4.725590189046253, 4.640384817928831, 4.622651405810379, 4.637557995331275, 4.607387993786927, 4.604861954611801, 4.612951941563611, 4.6174491584478226, 4.694004765363059, 4.696559180957679, 4.802250493640958, 4.843251179824461, 4.86716716179291, 4.861804273295409, 4.825987989077137, 4.825378062377467, 4.830898559600295, 4.823432374071692, 4.815447150133891, 4.80602592670205, 4.75389154443848, 4.7199090237019465, 4.670457006061464, 4.649547212267588, 4.633222325277424, 4.595179220064484, 4.572560903320325, 4.532280228640979, 4.518674516117048, 4.484931752326467, 4.4485961451919005, 4.41282884309579, 4.39056888556065, 4.3743151003429865, 4.347424340879218, 4.334265318902878, 4.305748551117128, 4.274473359581259, 4.261900744522032, 4.250607948211516, 4.245468084632799, 4.21455389537425, 4.1958374330566475, 4.178329839063433, 4.162858669551921, 4.161459623579707, 4.170310715308531, 4.146217989533648, 4.131322509625505, 4.113505000826018, 4.101165490385408, 4.080168842653269, 4.071857071736107, 4.073022716709629, 4.062824197119293, 4.049642542326719, 4.026340173888317, 3.9948656744714035, 3.963053088050608, 3.93759792489189]\n"
     ]
    }
   ],
   "source": [
    "inputcsv = \"../sim_csv/feat9/sim_feat9_run8_s1.csv\"\n",
    "antt = compute_antt(inputcsv)\n",
    "print antt\n",
    "\n",
    "mydf = pd.DataFrame(antt)\n",
    "mydf.to_csv('antt_sim-feat9_max8.csv', index=False, header=False)"
   ]
  },
  {
   "cell_type": "code",
   "execution_count": 10,
   "metadata": {},
   "outputs": [
    {
     "name": "stdout",
     "output_type": "stream",
     "text": [
      "[4.994248583439956, 4.597246078828775, 4.061260868498736, 3.601930316256854, 3.475262768550666, 3.193303260754426, 3.1753339478402856, 3.0042242696870796, 3.061641683028978, 2.902699403451201, 2.9183927585247402, 2.8868492219973465, 2.8882861094864976, 2.837126637344005, 2.8181860578617672, 2.8224230431857618, 2.810536856763651, 2.8321548303173967, 2.858374108553214, 2.8558200088951233, 2.8833748185913697, 2.8671128947062487, 2.8737118266538237, 2.858510195162727, 2.8213215486458294, 2.832420863917714, 2.788584145069492, 2.791535435542982, 2.792867734482657, 2.756284036439776, 2.7404946416859657, 2.744122791465571, 2.7446816709260946, 2.7483738003297247, 2.7274250931021435, 2.6958316470232746, 2.6850275570182975, 2.6776826831783436, 2.673500844507686, 2.666014316556378, 2.654474214497479, 2.622729771985078, 2.605254528264429, 2.588069726496019, 2.593122907189252, 2.6132644433985366, 2.6368362726886105, 2.6671128712977805, 2.6502720850784423, 2.627807492835572, 2.6295210557667112, 2.6127018220720584, 2.6103458685234706, 2.60710020254524, 2.6077828420270635, 2.5988563131330933, 2.5927838414225817, 2.58182534457649, 2.581851921456309, 2.5767312198755135, 2.567842560019666, 2.5627538465718454, 2.5519616265183935, 2.554526492539247, 2.542519043378143, 2.5517136741693127, 2.5496366677002515, 2.538008934168913, 2.532607873353899, 2.52593942330139, 2.5282988099132764, 2.522394131026471, 2.5106315368060876, 2.500217760829579, 2.491573507988876, 2.481104128833303, 2.4675859631179233, 2.4528393055310906, 2.43987999338319]\n"
     ]
    }
   ],
   "source": [
    "inputcsv = \"../robustBin_csv/feat9/robustBin_feat9_run8_s1.csv\"\n",
    "antt = compute_antt(inputcsv)\n",
    "print antt\n",
    "\n",
    "mydf = pd.DataFrame(antt)\n",
    "mydf.to_csv('antt_interBin-feat9_max8.csv', index=False, header=False)"
   ]
  }
 ],
 "metadata": {
  "kernelspec": {
   "display_name": "Python [default]",
   "language": "python",
   "name": "python2"
  },
  "language_info": {
   "codemirror_mode": {
    "name": "ipython",
    "version": 2
   },
   "file_extension": ".py",
   "mimetype": "text/x-python",
   "name": "python",
   "nbconvert_exporter": "python",
   "pygments_lexer": "ipython2",
   "version": "2.7.13"
  }
 },
 "nbformat": 4,
 "nbformat_minor": 2
}
