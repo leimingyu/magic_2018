{
 "cells": [
  {
   "cell_type": "code",
   "execution_count": 6,
   "metadata": {
    "collapsed": true
   },
   "outputs": [],
   "source": [
    "# %matplotlib notebook\n",
    "%matplotlib inline \n",
    "\n",
    "import numpy as np\n",
    "import os, sys\n",
    "\n",
    "#import seaborn as sns\n",
    "import matplotlib.pyplot as plt"
   ]
  },
  {
   "cell_type": "code",
   "execution_count": 7,
   "metadata": {},
   "outputs": [
    {
     "data": {
      "text/plain": [
       "{'cudasdk_BlackScholes': 1805.0,\n",
       " 'cudasdk_FDTD3d': 14291.0,\n",
       " 'cudasdk_MCEstimatePiInlineP': 746.667,\n",
       " 'cudasdk_MCEstimatePiInlineQ': 832.333,\n",
       " 'cudasdk_MCEstimatePiP': 884.333,\n",
       " 'cudasdk_MCEstimatePiQ': 912.667,\n",
       " 'cudasdk_MCSingleAsianOptionP': 799.0,\n",
       " 'cudasdk_SobolQRNG': 961.333,\n",
       " 'cudasdk_batchCUBLAS': 1106.33,\n",
       " 'cudasdk_binomialOptions': 24805.1,\n",
       " 'cudasdk_boxFilterNPP': 819.333,\n",
       " 'cudasdk_c++11Cuda': 933.0,\n",
       " 'cudasdk_c11Cuda': 933.0,\n",
       " 'cudasdk_concurrentKernels': 399.1,\n",
       " 'cudasdk_convolutionFFT2D': 4160.0,\n",
       " 'cudasdk_convolutionSeparable': 2184.8,\n",
       " 'cudasdk_convolutionTexture': 1494.67,\n",
       " 'cudasdk_dct8x8': 1106.0,\n",
       " 'cudasdk_dwtHaar1D': 791.333,\n",
       " 'cudasdk_dxtc': 797.0,\n",
       " 'cudasdk_eigenvalues': 1723.0,\n",
       " 'cudasdk_fastWalshTransform': 3639.9,\n",
       " 'cudasdk_interval': 2289.67,\n",
       " 'cudasdk_lineOfSight': 905.333,\n",
       " 'cudasdk_matrixMul': 786.0,\n",
       " 'cudasdk_mergeSort': 1155.67,\n",
       " 'cudasdk_quasirandomGenerator': 1498.67,\n",
       " 'cudasdk_radixSortThrust': 3500.4,\n",
       " 'cudasdk_reduction': 1375.0,\n",
       " 'cudasdk_scalarProd': 844.667,\n",
       " 'cudasdk_scan': 2556.8,\n",
       " 'cudasdk_segmentationTreeThrust': 3051.6,\n",
       " 'cudasdk_shflscan': 807.667,\n",
       " 'cudasdk_simpleCUBLAS': 1127.33,\n",
       " 'cudasdk_simpleCUFFTcallback': 1208.33,\n",
       " 'cudasdk_sortingNetworks': 5928.3,\n",
       " 'cudasdk_stereoDisparity': 22678.4,\n",
       " 'cudasdk_threadFenceReduction': 772.333,\n",
       " 'cudasdk_transpose': 1048.67,\n",
       " 'cudasdk_vectorAdd': 880.667,\n",
       " 'lonestar_bh': 1983.0,\n",
       " 'lonestar_dmr': 6522.2,\n",
       " 'lonestar_mst': 777.333,\n",
       " 'lonestar_sssp': 2002.67,\n",
       " 'parboil_bfs': 966.0,\n",
       " 'parboil_cutcp': 932.8,\n",
       " 'parboil_lbm': 3520.67,\n",
       " 'parboil_mriq': 795.333,\n",
       " 'parboil_sgemm': 822.333,\n",
       " 'parboil_stencil': 791.667,\n",
       " 'poly_2dconv': 1866.0,\n",
       " 'poly_3dconv': 1958.0,\n",
       " 'poly_3mm': 2319.4,\n",
       " 'poly_atax': 1117.67,\n",
       " 'poly_bicg': 1114.67,\n",
       " 'poly_correlation': 28336.2,\n",
       " 'poly_covariance': 28505.0,\n",
       " 'poly_fdtd2d': 30026.6,\n",
       " 'poly_gemm': 1071.9,\n",
       " 'poly_gesummv': 1289.0,\n",
       " 'poly_mvt': 1301.2,\n",
       " 'poly_syr2k': 54914.7,\n",
       " 'poly_syrk': 4263.33,\n",
       " 'rodinia_b+tree': 2326.0,\n",
       " 'rodinia_backprop': 863.333,\n",
       " 'rodinia_btree': 1975.33,\n",
       " 'rodinia_dwt2d': 929.667,\n",
       " 'rodinia_gaussian': 748.667,\n",
       " 'rodinia_heartwall': 1138.2,\n",
       " 'rodinia_hotspot': 1028.0,\n",
       " 'rodinia_hybridsort': 1306.67,\n",
       " 'rodinia_lavaMD': 887.667,\n",
       " 'rodinia_lud': 773.667,\n",
       " 'rodinia_needle': 967.667,\n",
       " 'rodinia_pathfinder': 1020.6,\n",
       " 'shoc_lev1BFS': 840.0,\n",
       " 'shoc_lev1GEMM': 1104.67,\n",
       " 'shoc_lev1fft': 790.0,\n",
       " 'shoc_lev1md5hash': 835.667,\n",
       " 'shoc_lev1reduction': 486.5,\n",
       " 'shoc_lev1sort': 970.0}"
      ]
     },
     "execution_count": 7,
     "metadata": {},
     "output_type": "execute_result"
    }
   ],
   "source": [
    "dedicated_dd = np.load('dedicated_app_runtime_update1.npy').item()\n",
    "dedicated_dd"
   ]
  },
  {
   "cell_type": "code",
   "execution_count": 8,
   "metadata": {},
   "outputs": [],
   "source": [
    "# # dedicated runtime\n",
    "# appRuntime = np.load('../simulation/dedicated_runtime/app_dedicated_rt.npy').item()\n",
    "# appRuntime"
   ]
  },
  {
   "cell_type": "markdown",
   "metadata": {},
   "source": [
    "### check app1 speedup when corun with other applications"
   ]
  },
  {
   "cell_type": "code",
   "execution_count": 9,
   "metadata": {
    "collapsed": true
   },
   "outputs": [],
   "source": [
    "app_speedup = {}"
   ]
  },
  {
   "cell_type": "code",
   "execution_count": 10,
   "metadata": {
    "collapsed": true
   },
   "outputs": [],
   "source": [
    "def get_app1_speedup(logFile, dedicated_dd):\n",
    "    with open(logFile) as f:\n",
    "        lines = f.readlines()\n",
    "    \n",
    "    app_speedup_list = []\n",
    "    for line in lines:\n",
    "        #print line\n",
    "        first6char = line[:6]\n",
    "        if first6char == \"[test]\":\n",
    "            #print line\n",
    "            dataline = line[6:]\n",
    "            [app1, app2]= dataline.split(';')\n",
    "            app1_runtime = float(app1.split(':')[1])\n",
    "            app2_runtime = float(app2.split(':')[1])\n",
    "            #print app1_runtime\n",
    "            #print app2_runtime\n",
    "\n",
    "            app1_name = app1.split(':')[0]\n",
    "            #app2_name = app2.split(':')[0]\n",
    "            #test_name = app1_name + \"+\" + app2_name\n",
    "            #print test_name\n",
    "\n",
    "            app1_spd = dedicated_dd[app1_name] / app1_runtime\n",
    "            #app2_spd = dedicated_dd[app2_name] / app2_runtime\n",
    "\n",
    "            #print app1_spd, app2_spd\n",
    "            #test_perf_dd[test_name] = [app1_spd, app2_spd]  \n",
    "\n",
    "            app_speedup_list.append(app1_spd)\n",
    "\n",
    "    return app1_name, app_speedup_list\n"
   ]
  },
  {
   "cell_type": "code",
   "execution_count": 11,
   "metadata": {
    "collapsed": true
   },
   "outputs": [],
   "source": [
    "# my_run2log_list = [\n",
    "# 'run2_log_cudasdk_batchCUBLAS',\n",
    "# 'run2_log_cudasdk_binomialOptions',\n",
    "# 'run2_log_cudasdk_BlackScholes',\n",
    "# 'run2_log_cudasdk_boxFilterNPP',\n",
    "# 'run2_log_cudasdk_c++11Cuda',\n",
    "# 'run2_log_cudasdk_concurrentKernels',\n",
    "# 'run2_log_cudasdk_convolutionFFT2D',\n",
    "# 'run2_log_cudasdk_convolutionSeparable',\n",
    "# 'run2_log_cudasdk_convolutionTexture',\n",
    "# 'run2_log_cudasdk_dct8x8',\n",
    "# 'run2_log_cudasdk_dwtHaar1D',\n",
    "# 'run2_log_cudasdk_dxtc',\n",
    "# 'run2_log_cudasdk_eigenvalues',\n",
    "# 'run2_log_cudasdk_fastWalshTransform',\n",
    "# 'run2_log_cudasdk_FDTD3d',\n",
    "# 'run2_log_cudasdk_interval',\n",
    "# 'run2_log_cudasdk_lineOfSight',\n",
    "# 'run2_log_cudasdk_matrixMul',\n",
    "# 'run2_log_cudasdk_MCEstimatePiInlineP',\n",
    "# 'run2_log_cudasdk_MCEstimatePiInlineQ',\n",
    "# 'run2_log_cudasdk_MCEstimatePiP',\n",
    "# 'run2_log_cudasdk_MCEstimatePiQ'\n",
    "    \n",
    "# 'run2_log_cudasdk_MCSingleAsianOptionP',\n",
    "# 'run2_log_cudasdk_mergeSort',\n",
    "# 'run2_log_cudasdk_quasirandomGenerator',\n",
    "# 'run2_log_cudasdk_radixSortThrust',\n",
    "# 'run2_log_cudasdk_reduction',\n",
    "# 'run2_log_cudasdk_scalarProd',\n",
    "# 'run2_log_cudasdk_scan',\n",
    "# 'run2_log_cudasdk_segmentationTreeThrust',\n",
    "# 'run2_log_cudasdk_shflscan',\n",
    "# 'run2_log_cudasdk_simpleCUBLAS',\n",
    "# 'run2_log_cudasdk_simpleCUFFTcallback',\n",
    "# 'run2_log_cudasdk_SobolQRNG',\n",
    "# 'run2_log_cudasdk_sortingNetworks',\n",
    "# 'run2_log_cudasdk_stereoDisparity',\n",
    "# 'run2_log_cudasdk_threadFenceReduction',\n",
    "# 'run2_log_cudasdk_transpose',\n",
    "# 'run2_log_cudasdk_vectorAdd'\n",
    "    \n",
    "# 'run2_log_lonestar_bh',\n",
    "# 'run2_log_lonestar_dmr',\n",
    "# 'run2_log_lonestar_mst',\n",
    "# 'run2_log_lonestar_sssp',\n",
    "# 'run2_log_parboil_bfs',\n",
    "# 'run2_log_parboil_cutcp',\n",
    "# 'run2_log_parboil_lbm',\n",
    "# 'run2_log_parboil_mriq',\n",
    "# 'run2_log_parboil_sgemm',\n",
    "# 'run2_log_parboil_stencil',\n",
    "# 'run2_log_poly_2dconv',\n",
    "# 'run2_log_poly_3dconv',\n",
    "# 'run2_log_poly_3mm',\n",
    "# 'run2_log_poly_atax',\n",
    "# 'run2_log_poly_bicg',\n",
    "# 'run2_log_poly_correlation',\n",
    "# 'run2_log_poly_covariance',\n",
    "# 'run2_log_poly_fdtd2d',\n",
    "# 'run2_log_poly_gemm',\n",
    "# 'run2_log_poly_gesummv',\n",
    "# 'run2_log_poly_mvt',\n",
    "# 'run2_log_poly_syr2k',\n",
    "# 'run2_log_poly_syrk'\n",
    "# ]\n",
    "\n",
    "# print len(my_run2log_list)\n"
   ]
  },
  {
   "cell_type": "code",
   "execution_count": 12,
   "metadata": {
    "collapsed": true
   },
   "outputs": [],
   "source": [
    "# my_run2log_list = [    \n",
    "# 'run2_log_rodinia_backprop',\n",
    "# 'run2_log_rodinia_b+tree',\n",
    "# 'run2_log_rodinia_dwt2d',\n",
    "# 'run2_log_rodinia_gaussian',\n",
    "# 'run2_log_rodinia_heartwall',\n",
    "# 'run2_log_rodinia_hotspot',\n",
    "# 'run2_log_rodinia_hybridsort',\n",
    "# 'run2_log_rodinia_lavaMD',\n",
    "# 'run2_log_rodinia_lud',\n",
    "# 'run2_log_rodinia_needle',\n",
    "# 'run2_log_rodinia_pathfinder',\n",
    "# 'run2_log_shoc_lev1BFS',\n",
    "# 'run2_log_shoc_lev1fft',\n",
    "# 'run2_log_shoc_lev1GEMM',\n",
    "# 'run2_log_shoc_lev1md5hash',\n",
    "# 'run2_log_shoc_lev1reduction',\n",
    "# 'run2_log_shoc_lev1sort'\n",
    "# ]\n",
    "\n",
    "# print len(my_run2log_list)"
   ]
  },
  {
   "cell_type": "code",
   "execution_count": 13,
   "metadata": {},
   "outputs": [
    {
     "name": "stdout",
     "output_type": "stream",
     "text": [
      "6\n"
     ]
    }
   ],
   "source": [
    "my_run2log_list = [\n",
    "\"run2_log_cudasdk_binomialOptions\",\n",
    "\"run2_log_poly_fdtd2d\",\n",
    "\"run2_log_poly_3mm\",\n",
    "\"run2_log_cudasdk_scan\",\n",
    "\"run2_log_shoc_lev1reduction\",\n",
    "\"run2_log_cudasdk_concurrentKernels\",\n",
    "]\n",
    "\n",
    "print len(my_run2log_list)"
   ]
  },
  {
   "cell_type": "code",
   "execution_count": 14,
   "metadata": {},
   "outputs": [
    {
     "name": "stdout",
     "output_type": "stream",
     "text": [
      "working on run2_log_cudasdk_binomialOptions\n",
      "working on run2_log_poly_fdtd2d\n",
      "working on run2_log_poly_3mm\n",
      "working on run2_log_cudasdk_scan\n",
      "working on run2_log_shoc_lev1reduction\n",
      "working on run2_log_cudasdk_concurrentKernels\n"
     ]
    }
   ],
   "source": [
    "#==========================\n",
    "# \n",
    "# add more plot data here\n",
    "#\n",
    "#==========================\n",
    "\n",
    "for logFile in my_run2log_list:\n",
    "    \n",
    "    print \"working on %s\" %  logFile\n",
    "    \n",
    "    app1_name, app1_speedup_list = get_app1_speedup(logFile, dedicated_dd)\n",
    "    app_speedup[app1_name] = app1_speedup_list"
   ]
  },
  {
   "cell_type": "code",
   "execution_count": 15,
   "metadata": {},
   "outputs": [
    {
     "name": "stdout",
     "output_type": "stream",
     "text": [
      "AppName\t\t\t\tMean\tMax\tMin\tSTD\n",
      "cudasdk_concurrentKernels     \t0.241\t0.290\t0.198\t0.019\n",
      "cudasdk_scan                  \t0.661\t0.760\t0.591\t0.029\n",
      "poly_fdtd2d                   \t0.916\t0.937\t0.844\t0.014\n",
      "shoc_lev1reduction            \t0.247\t0.324\t0.198\t0.030\n",
      "poly_3mm                      \t0.645\t0.736\t0.604\t0.032\n",
      "cudasdk_binomialOptions       \t0.944\t0.963\t0.934\t0.005\n"
     ]
    }
   ],
   "source": [
    "print \"AppName\\t\\t\\t\\tMean\\tMax\\tMin\\tSTD\"\n",
    "for app, speedup_list in app_speedup.iteritems():\n",
    "    array = np.array(speedup_list)\n",
    "    speedup_mean = np.mean(array)\n",
    "    speedup_max = np.max(array)\n",
    "    speedup_min = np.min(array)\n",
    "    speedup_std = np.std(array)\n",
    "    \n",
    "    print(\"{0:<30}\\t{1:.3f}\\t{2:.3f}\\t{3:.3f}\\t{4:.3f}\".format(app, speedup_mean, speedup_max, speedup_min, speedup_std))"
   ]
  },
  {
   "cell_type": "markdown",
   "metadata": {},
   "source": [
    "### Plot"
   ]
  },
  {
   "cell_type": "raw",
   "metadata": {},
   "source": [
    "convert the speedups to numpy array, save to a list for each application"
   ]
  },
  {
   "cell_type": "code",
   "execution_count": 16,
   "metadata": {},
   "outputs": [
    {
     "name": "stdout",
     "output_type": "stream",
     "text": [
      "6\n",
      "6\n"
     ]
    }
   ],
   "source": [
    "all_data = []\n",
    "app_name = []\n",
    "\n",
    "for app, speedup_list in app_speedup.iteritems():\n",
    "    array = np.array(speedup_list)\n",
    "    all_data.append(array)\n",
    "    app_name.append(app)\n",
    "    \n",
    "print len(all_data)\n",
    "print len(app_name)"
   ]
  },
  {
   "cell_type": "code",
   "execution_count": 18,
   "metadata": {},
   "outputs": [
    {
     "data": {
      "image/png": "[encoded data removed]",
      "text/plain": [
       "<matplotlib.figure.Figure at 0x10f576c50>"
      ]
     },
     "metadata": {},
     "output_type": "display_data"
    }
   ],
   "source": [
    "fig, ax = plt.subplots()\n",
    "\n",
    "ax.violinplot(all_data, showmeans=True, showmedians=False)\n",
    "\n",
    "ax.yaxis.grid(True)\n",
    "ax.set_xticks([y+1 for y in range(len(all_data))])\n",
    "# ax.set_xlabel('xlabel')\n",
    "ax.set_ylabel('Slowdown')\n",
    "\n",
    "\n",
    "xtick_name = [ name for name in app_name]\n",
    "\n",
    "# add x-tick labels\n",
    "plt.setp(ax, \n",
    "         xticks=[y+1 for y in range(len(all_data))])\n",
    "\n",
    "ax.set_xticklabels(xtick_name, rotation = 90)\n",
    "\n",
    "plt.show()\n"
   ]
  },
  {
   "cell_type": "markdown",
   "metadata": {},
   "source": [
    "### select appliction to plot  (adjust the order)"
   ]
  },
  {
   "cell_type": "code",
   "execution_count": 29,
   "metadata": {},
   "outputs": [
    {
     "data": {
      "image/png": "[encoded data removed]",
      "text/plain": [
       "<matplotlib.figure.Figure at 0x10ffab690>"
      ]
     },
     "metadata": {},
     "output_type": "display_data"
    }
   ],
   "source": [
    "all_data = []\n",
    "app_name = []\n",
    "\n",
    "\n",
    "# [1]\n",
    "all_data.append(np.array(app_speedup['cudasdk_concurrentKernels']))\n",
    "app_name.append('cuda_concurKerns')\n",
    "\n",
    "# [2]\n",
    "all_data.append(np.array(app_speedup['shoc_lev1reduction']))\n",
    "app_name.append('shoc_reduction')\n",
    "\n",
    "# [3]\n",
    "all_data.append(np.array(app_speedup['cudasdk_scan']))\n",
    "app_name.append('cuda_scan')\n",
    "\n",
    "# [4]\n",
    "all_data.append(np.array(app_speedup['poly_3mm']))\n",
    "app_name.append('poly_3mm')\n",
    "\n",
    "# [5]\n",
    "all_data.append(np.array(app_speedup['poly_fdtd2d']))\n",
    "app_name.append('poly_fdtd2d')\n",
    "\n",
    "# [6]\n",
    "all_data.append(np.array(app_speedup['cudasdk_binomialOptions']))\n",
    "app_name.append('cuda_binomOpts')\n",
    "\n",
    "\n",
    "# plot\n",
    "fig, ax = plt.subplots()\n",
    "ax.violinplot(all_data, showmeans=True, showmedians=False)\n",
    "\n",
    "ax.yaxis.grid(True)\n",
    "ax.set_xticks([y+1 for y in range(len(all_data))])\n",
    "ax.set_ylabel('Slowdown', fontsize=15)\n",
    "xtick_name = [ name for name in app_name]\n",
    "# add x-tick labels\n",
    "plt.setp(ax, xticks=[y+1 for y in range(len(all_data))])\n",
    "ax.set_xticklabels(xtick_name, rotation = 90)\n",
    "\n",
    "plt.tick_params(axis='both', which='major', labelsize=12)\n",
    "plt.tick_params(axis='both', which='minor', labelsize=10)\n",
    "\n",
    "plt.show()\n",
    "\n",
    "\n",
    "# fig.savefig('appCorun_speedup.png', bbox_inches='tight', dpi=300)\n",
    "fig.savefig('appCorun_speedup.pdf', bbox_inches='tight', dpi=300)"
   ]
  }
 ],
 "metadata": {
  "kernelspec": {
   "display_name": "Python [default]",
   "language": "python",
   "name": "python2"
  },
  "language_info": {
   "codemirror_mode": {
    "name": "ipython",
    "version": 2
   },
   "file_extension": ".py",
   "mimetype": "text/x-python",
   "name": "python",
   "nbconvert_exporter": "python",
   "pygments_lexer": "ipython2",
   "version": "2.7.13"
  }
 },
 "nbformat": 4,
 "nbformat_minor": 2
}
